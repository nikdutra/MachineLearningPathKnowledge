{
 "cells": [
  {
   "cell_type": "code",
   "execution_count": 2,
   "metadata": {},
   "outputs": [],
   "source": [
    "import os\n",
    "import pandas as pd\n",
    "import numpy as np\n",
    "import matplotlib.pyplot as plt"
   ]
  },
  {
   "cell_type": "code",
   "execution_count": 3,
   "metadata": {},
   "outputs": [],
   "source": [
    "df_envio_portos = pd.read_csv(r'C:\\Users\\Pc\\Downloads\\data.csv')"
   ]
  },
  {
   "cell_type": "code",
   "execution_count": 4,
   "metadata": {},
   "outputs": [
    {
     "data": {
      "text/html": [
       "<div>\n",
       "<style scoped>\n",
       "    .dataframe tbody tr th:only-of-type {\n",
       "        vertical-align: middle;\n",
       "    }\n",
       "\n",
       "    .dataframe tbody tr th {\n",
       "        vertical-align: top;\n",
       "    }\n",
       "\n",
       "    .dataframe thead th {\n",
       "        text-align: right;\n",
       "    }\n",
       "</style>\n",
       "<table border=\"1\" class=\"dataframe\">\n",
       "  <thead>\n",
       "    <tr style=\"text-align: right;\">\n",
       "      <th></th>\n",
       "      <th>valid_import</th>\n",
       "      <th>item</th>\n",
       "      <th>importer_id</th>\n",
       "      <th>exporter_id</th>\n",
       "      <th>country_of_origin</th>\n",
       "      <th>declared_quantity</th>\n",
       "      <th>declared_cost</th>\n",
       "      <th>mode_of_transport</th>\n",
       "      <th>route</th>\n",
       "      <th>date_of_departure</th>\n",
       "      <th>date_of_arrival</th>\n",
       "      <th>declared_weight</th>\n",
       "      <th>actual_weight</th>\n",
       "      <th>days_in_transit</th>\n",
       "    </tr>\n",
       "  </thead>\n",
       "  <tbody>\n",
       "    <tr>\n",
       "      <td>0</td>\n",
       "      <td>True</td>\n",
       "      <td>cigar</td>\n",
       "      <td>111</td>\n",
       "      <td>222</td>\n",
       "      <td>India</td>\n",
       "      <td>129</td>\n",
       "      <td>3784.402551</td>\n",
       "      <td>sea</td>\n",
       "      <td>asia</td>\n",
       "      <td>04/25/2019</td>\n",
       "      <td>05/13/2019</td>\n",
       "      <td>1608.605135</td>\n",
       "      <td>1637.661221</td>\n",
       "      <td>18.232857</td>\n",
       "    </tr>\n",
       "    <tr>\n",
       "      <td>1</td>\n",
       "      <td>True</td>\n",
       "      <td>cigar</td>\n",
       "      <td>111</td>\n",
       "      <td>222</td>\n",
       "      <td>India</td>\n",
       "      <td>104</td>\n",
       "      <td>3081.350806</td>\n",
       "      <td>sea</td>\n",
       "      <td>america</td>\n",
       "      <td>04/22/2019</td>\n",
       "      <td>05/24/2019</td>\n",
       "      <td>831.719301</td>\n",
       "      <td>848.273419</td>\n",
       "      <td>32.436029</td>\n",
       "    </tr>\n",
       "    <tr>\n",
       "      <td>2</td>\n",
       "      <td>True</td>\n",
       "      <td>cigar</td>\n",
       "      <td>111</td>\n",
       "      <td>222</td>\n",
       "      <td>India</td>\n",
       "      <td>130</td>\n",
       "      <td>4414.125741</td>\n",
       "      <td>sea</td>\n",
       "      <td>europe</td>\n",
       "      <td>04/29/2019</td>\n",
       "      <td>05/16/2019</td>\n",
       "      <td>1527.704165</td>\n",
       "      <td>1582.063911</td>\n",
       "      <td>16.996206</td>\n",
       "    </tr>\n",
       "    <tr>\n",
       "      <td>3</td>\n",
       "      <td>True</td>\n",
       "      <td>cigar</td>\n",
       "      <td>111</td>\n",
       "      <td>222</td>\n",
       "      <td>India</td>\n",
       "      <td>143</td>\n",
       "      <td>2533.535991</td>\n",
       "      <td>sea</td>\n",
       "      <td>panama</td>\n",
       "      <td>05/05/2019</td>\n",
       "      <td>05/25/2019</td>\n",
       "      <td>1138.680563</td>\n",
       "      <td>1179.993817</td>\n",
       "      <td>19.965886</td>\n",
       "    </tr>\n",
       "    <tr>\n",
       "      <td>4</td>\n",
       "      <td>True</td>\n",
       "      <td>cigar</td>\n",
       "      <td>111</td>\n",
       "      <td>222</td>\n",
       "      <td>China</td>\n",
       "      <td>141</td>\n",
       "      <td>4396.397887</td>\n",
       "      <td>sea</td>\n",
       "      <td>asia</td>\n",
       "      <td>05/14/2019</td>\n",
       "      <td>06/05/2019</td>\n",
       "      <td>761.744581</td>\n",
       "      <td>781.735080</td>\n",
       "      <td>22.160034</td>\n",
       "    </tr>\n",
       "  </tbody>\n",
       "</table>\n",
       "</div>"
      ],
      "text/plain": [
       "   valid_import   item  importer_id  exporter_id country_of_origin  \\\n",
       "0          True  cigar          111          222             India   \n",
       "1          True  cigar          111          222             India   \n",
       "2          True  cigar          111          222             India   \n",
       "3          True  cigar          111          222             India   \n",
       "4          True  cigar          111          222             China   \n",
       "\n",
       "   declared_quantity  declared_cost mode_of_transport    route  \\\n",
       "0                129    3784.402551               sea     asia   \n",
       "1                104    3081.350806               sea  america   \n",
       "2                130    4414.125741               sea   europe   \n",
       "3                143    2533.535991               sea   panama   \n",
       "4                141    4396.397887               sea     asia   \n",
       "\n",
       "  date_of_departure date_of_arrival  declared_weight  actual_weight  \\\n",
       "0        04/25/2019      05/13/2019      1608.605135    1637.661221   \n",
       "1        04/22/2019      05/24/2019       831.719301     848.273419   \n",
       "2        04/29/2019      05/16/2019      1527.704165    1582.063911   \n",
       "3        05/05/2019      05/25/2019      1138.680563    1179.993817   \n",
       "4        05/14/2019      06/05/2019       761.744581     781.735080   \n",
       "\n",
       "   days_in_transit  \n",
       "0        18.232857  \n",
       "1        32.436029  \n",
       "2        16.996206  \n",
       "3        19.965886  \n",
       "4        22.160034  "
      ]
     },
     "execution_count": 4,
     "metadata": {},
     "output_type": "execute_result"
    }
   ],
   "source": [
    "df_envio_portos.head()"
   ]
  },
  {
   "cell_type": "code",
   "execution_count": 5,
   "metadata": {},
   "outputs": [
    {
     "name": "stdout",
     "output_type": "stream",
     "text": [
      "<class 'pandas.core.frame.DataFrame'>\n",
      "RangeIndex: 120 entries, 0 to 119\n",
      "Data columns (total 14 columns):\n",
      "valid_import         120 non-null bool\n",
      "item                 120 non-null object\n",
      "importer_id          120 non-null int64\n",
      "exporter_id          120 non-null int64\n",
      "country_of_origin    120 non-null object\n",
      "declared_quantity    120 non-null int64\n",
      "declared_cost        120 non-null float64\n",
      "mode_of_transport    120 non-null object\n",
      "route                120 non-null object\n",
      "date_of_departure    120 non-null object\n",
      "date_of_arrival      120 non-null object\n",
      "declared_weight      120 non-null float64\n",
      "actual_weight        120 non-null float64\n",
      "days_in_transit      120 non-null float64\n",
      "dtypes: bool(1), float64(4), int64(3), object(6)\n",
      "memory usage: 12.4+ KB\n"
     ]
    }
   ],
   "source": [
    "df_envio_portos.info()"
   ]
  },
  {
   "cell_type": "code",
   "execution_count": 6,
   "metadata": {},
   "outputs": [
    {
     "data": {
      "text/plain": [
       "(120, 14)"
      ]
     },
     "execution_count": 6,
     "metadata": {},
     "output_type": "execute_result"
    }
   ],
   "source": [
    "df_envio_portos.shape"
   ]
  },
  {
   "cell_type": "code",
   "execution_count": 7,
   "metadata": {},
   "outputs": [
    {
     "data": {
      "text/html": [
       "<div>\n",
       "<style scoped>\n",
       "    .dataframe tbody tr th:only-of-type {\n",
       "        vertical-align: middle;\n",
       "    }\n",
       "\n",
       "    .dataframe tbody tr th {\n",
       "        vertical-align: top;\n",
       "    }\n",
       "\n",
       "    .dataframe thead th {\n",
       "        text-align: right;\n",
       "    }\n",
       "</style>\n",
       "<table border=\"1\" class=\"dataframe\">\n",
       "  <thead>\n",
       "    <tr style=\"text-align: right;\">\n",
       "      <th></th>\n",
       "      <th>importer_id</th>\n",
       "      <th>exporter_id</th>\n",
       "      <th>declared_quantity</th>\n",
       "      <th>declared_cost</th>\n",
       "      <th>declared_weight</th>\n",
       "      <th>actual_weight</th>\n",
       "      <th>days_in_transit</th>\n",
       "    </tr>\n",
       "  </thead>\n",
       "  <tbody>\n",
       "    <tr>\n",
       "      <td>count</td>\n",
       "      <td>120.0</td>\n",
       "      <td>120.0</td>\n",
       "      <td>120.000000</td>\n",
       "      <td>120.000000</td>\n",
       "      <td>120.000000</td>\n",
       "      <td>120.000000</td>\n",
       "      <td>120.000000</td>\n",
       "    </tr>\n",
       "    <tr>\n",
       "      <td>mean</td>\n",
       "      <td>111.0</td>\n",
       "      <td>222.0</td>\n",
       "      <td>127.458333</td>\n",
       "      <td>6743.649881</td>\n",
       "      <td>1264.702934</td>\n",
       "      <td>1306.429806</td>\n",
       "      <td>35.424705</td>\n",
       "    </tr>\n",
       "    <tr>\n",
       "      <td>std</td>\n",
       "      <td>0.0</td>\n",
       "      <td>0.0</td>\n",
       "      <td>14.641311</td>\n",
       "      <td>2991.797050</td>\n",
       "      <td>633.149971</td>\n",
       "      <td>656.911704</td>\n",
       "      <td>26.571591</td>\n",
       "    </tr>\n",
       "    <tr>\n",
       "      <td>min</td>\n",
       "      <td>111.0</td>\n",
       "      <td>222.0</td>\n",
       "      <td>100.000000</td>\n",
       "      <td>1441.012419</td>\n",
       "      <td>18.459509</td>\n",
       "      <td>19.275241</td>\n",
       "      <td>12.410325</td>\n",
       "    </tr>\n",
       "    <tr>\n",
       "      <td>25%</td>\n",
       "      <td>111.0</td>\n",
       "      <td>222.0</td>\n",
       "      <td>115.750000</td>\n",
       "      <td>4442.903914</td>\n",
       "      <td>820.314400</td>\n",
       "      <td>841.763738</td>\n",
       "      <td>18.225625</td>\n",
       "    </tr>\n",
       "    <tr>\n",
       "      <td>50%</td>\n",
       "      <td>111.0</td>\n",
       "      <td>222.0</td>\n",
       "      <td>131.500000</td>\n",
       "      <td>6010.218745</td>\n",
       "      <td>1255.597743</td>\n",
       "      <td>1305.716419</td>\n",
       "      <td>27.044293</td>\n",
       "    </tr>\n",
       "    <tr>\n",
       "      <td>75%</td>\n",
       "      <td>111.0</td>\n",
       "      <td>222.0</td>\n",
       "      <td>139.000000</td>\n",
       "      <td>8887.095370</td>\n",
       "      <td>1711.314045</td>\n",
       "      <td>1763.681083</td>\n",
       "      <td>44.356374</td>\n",
       "    </tr>\n",
       "    <tr>\n",
       "      <td>max</td>\n",
       "      <td>111.0</td>\n",
       "      <td>222.0</td>\n",
       "      <td>149.000000</td>\n",
       "      <td>14281.325362</td>\n",
       "      <td>2806.338955</td>\n",
       "      <td>2918.681683</td>\n",
       "      <td>147.787560</td>\n",
       "    </tr>\n",
       "  </tbody>\n",
       "</table>\n",
       "</div>"
      ],
      "text/plain": [
       "       importer_id  exporter_id  declared_quantity  declared_cost  \\\n",
       "count        120.0        120.0         120.000000     120.000000   \n",
       "mean         111.0        222.0         127.458333    6743.649881   \n",
       "std            0.0          0.0          14.641311    2991.797050   \n",
       "min          111.0        222.0         100.000000    1441.012419   \n",
       "25%          111.0        222.0         115.750000    4442.903914   \n",
       "50%          111.0        222.0         131.500000    6010.218745   \n",
       "75%          111.0        222.0         139.000000    8887.095370   \n",
       "max          111.0        222.0         149.000000   14281.325362   \n",
       "\n",
       "       declared_weight  actual_weight  days_in_transit  \n",
       "count       120.000000     120.000000       120.000000  \n",
       "mean       1264.702934    1306.429806        35.424705  \n",
       "std         633.149971     656.911704        26.571591  \n",
       "min          18.459509      19.275241        12.410325  \n",
       "25%         820.314400     841.763738        18.225625  \n",
       "50%        1255.597743    1305.716419        27.044293  \n",
       "75%        1711.314045    1763.681083        44.356374  \n",
       "max        2806.338955    2918.681683       147.787560  "
      ]
     },
     "execution_count": 7,
     "metadata": {},
     "output_type": "execute_result"
    }
   ],
   "source": [
    "df_envio_portos.describe()"
   ]
  },
  {
   "cell_type": "code",
   "execution_count": 8,
   "metadata": {},
   "outputs": [
    {
     "data": {
      "text/plain": [
       "<matplotlib.axes._subplots.AxesSubplot at 0x19a4b221c88>"
      ]
     },
     "execution_count": 8,
     "metadata": {},
     "output_type": "execute_result"
    },
    {
     "data": {
      "image/png": "[encoded data removed]",
      "text/plain": [
       "<Figure size 432x288 with 1 Axes>"
      ]
     },
     "metadata": {
      "needs_background": "light"
     },
     "output_type": "display_data"
    }
   ],
   "source": [
    "df_envio_portos [['declared_quantity', 'days_in_transit' ]].boxplot()"
   ]
  },
  {
   "cell_type": "markdown",
   "metadata": {},
   "source": [
    "Análise de Regressão"
   ]
  },
  {
   "cell_type": "code",
   "execution_count": 9,
   "metadata": {},
   "outputs": [],
   "source": [
    "x = df_envio_portos['declared_weight'].values #Variável independente\n",
    "y = df_envio_portos['actual_weight'].values #Variável dependente"
   ]
  },
  {
   "cell_type": "code",
   "execution_count": 10,
   "metadata": {},
   "outputs": [],
   "source": [
    "from sklearn.linear_model import LinearRegression"
   ]
  },
  {
   "cell_type": "code",
   "execution_count": 11,
   "metadata": {},
   "outputs": [],
   "source": [
    "reg = LinearRegression()\n",
    "x_reshaped = x.reshape((-1,1))\n",
    "regressao = reg.fit (x_reshaped, y)"
   ]
  },
  {
   "cell_type": "code",
   "execution_count": 12,
   "metadata": {},
   "outputs": [],
   "source": [
    "previsao = reg.predict(x_reshaped)"
   ]
  },
  {
   "cell_type": "code",
   "execution_count": 13,
   "metadata": {},
   "outputs": [],
   "source": [
    "from sklearn.metrics import r2_score"
   ]
  },
  {
   "cell_type": "code",
   "execution_count": 14,
   "metadata": {},
   "outputs": [
    {
     "name": "stdout",
     "output_type": "stream",
     "text": [
      "Y = [1.03718115]X -5.296233030439225\n",
      "Coeficiente de Determinação (R2): 0.9993288165644932\n"
     ]
    }
   ],
   "source": [
    "print('Y = {}X {}'.format(reg.coef_,reg.intercept_))\n",
    "R_2 = r2_score(y, previsao)\n",
    "print(\"Coeficiente de Determinação (R2):\", R_2)"
   ]
  },
  {
   "cell_type": "code",
   "execution_count": 19,
   "metadata": {},
   "outputs": [
    {
     "data": {
      "image/png": "[encoded data removed]",
      "text/plain": [
       "<Figure size 400x400 with 1 Axes>"
      ]
     },
     "metadata": {
      "needs_background": "light"
     },
     "output_type": "display_data"
    }
   ],
   "source": [
    "#realiza o plot dos dados\n",
    "plt.figure(figsize=(4, 4), dpi=100)\n",
    "plt.scatter(x, y,  color='gray') #realiza o plot do gráfico de dispersão\n",
    "plt.plot(x, previsao, color='red', linewidth=2) # realiza o plto da \"linha\"\n",
    "plt.xlabel(\"Peso Declarado\")\n",
    "plt.ylabel(\"Peso Real\")\n",
    "plt.show()"
   ]
  },
  {
   "cell_type": "code",
   "execution_count": null,
   "metadata": {},
   "outputs": [],
   "source": []
  }
 ],
 "metadata": {
  "kernelspec": {
   "display_name": "Python 3",
   "language": "python",
   "name": "python3"
  },
  "language_info": {
   "codemirror_mode": {
    "name": "ipython",
    "version": 3
   },
   "file_extension": ".py",
   "mimetype": "text/x-python",
   "name": "python",
   "nbconvert_exporter": "python",
   "pygments_lexer": "ipython3",
   "version": "3.7.4"
  }
 },
 "nbformat": 4,
 "nbformat_minor": 2
}
